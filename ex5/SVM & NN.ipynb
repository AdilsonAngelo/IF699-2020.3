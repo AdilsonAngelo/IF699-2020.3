{
 "cells": [
  {
   "cell_type": "markdown",
   "metadata": {},
   "source": [
    "#### GRUPO: aasj2; abl2; gbgv"
   ]
  },
  {
   "cell_type": "code",
   "execution_count": 1,
   "metadata": {},
   "outputs": [],
   "source": [
    "import pandas as pd\n",
    "import numpy as np\n",
    "import seaborn as sns\n",
    "import sklearn\n",
    "from scipy import stats\n",
    "import matplotlib.pyplot as plt"
   ]
  },
  {
   "cell_type": "code",
   "execution_count": 2,
   "metadata": {},
   "outputs": [],
   "source": [
    "df = pd.read_csv('glass.csv', index_col='id')"
   ]
  },
  {
   "cell_type": "code",
   "execution_count": 3,
   "metadata": {},
   "outputs": [],
   "source": [
    "X = df.loc[:, [col for col in df if col != 'Type']]\n",
    "y = df['Type']"
   ]
  },
  {
   "cell_type": "markdown",
   "metadata": {},
   "source": [
    "# Análise Exploratória"
   ]
  },
  {
   "cell_type": "code",
   "execution_count": 4,
   "metadata": {},
   "outputs": [
    {
     "data": {
      "text/html": [
       "<div>\n",
       "<style scoped>\n",
       "    .dataframe tbody tr th:only-of-type {\n",
       "        vertical-align: middle;\n",
       "    }\n",
       "\n",
       "    .dataframe tbody tr th {\n",
       "        vertical-align: top;\n",
       "    }\n",
       "\n",
       "    .dataframe thead th {\n",
       "        text-align: right;\n",
       "    }\n",
       "</style>\n",
       "<table border=\"1\" class=\"dataframe\">\n",
       "  <thead>\n",
       "    <tr style=\"text-align: right;\">\n",
       "      <th></th>\n",
       "      <th>RI</th>\n",
       "      <th>Na</th>\n",
       "      <th>Mg</th>\n",
       "      <th>Al</th>\n",
       "      <th>Si</th>\n",
       "      <th>K</th>\n",
       "      <th>Ca</th>\n",
       "      <th>Ba</th>\n",
       "      <th>Fe</th>\n",
       "      <th>Type</th>\n",
       "    </tr>\n",
       "    <tr>\n",
       "      <th>id</th>\n",
       "      <th></th>\n",
       "      <th></th>\n",
       "      <th></th>\n",
       "      <th></th>\n",
       "      <th></th>\n",
       "      <th></th>\n",
       "      <th></th>\n",
       "      <th></th>\n",
       "      <th></th>\n",
       "      <th></th>\n",
       "    </tr>\n",
       "  </thead>\n",
       "  <tbody>\n",
       "    <tr>\n",
       "      <th>1</th>\n",
       "      <td>1.52101</td>\n",
       "      <td>13.64</td>\n",
       "      <td>4.49</td>\n",
       "      <td>1.10</td>\n",
       "      <td>71.78</td>\n",
       "      <td>0.06</td>\n",
       "      <td>8.75</td>\n",
       "      <td>0.0</td>\n",
       "      <td>0.0</td>\n",
       "      <td>1</td>\n",
       "    </tr>\n",
       "    <tr>\n",
       "      <th>2</th>\n",
       "      <td>1.51761</td>\n",
       "      <td>13.89</td>\n",
       "      <td>3.60</td>\n",
       "      <td>1.36</td>\n",
       "      <td>72.73</td>\n",
       "      <td>0.48</td>\n",
       "      <td>7.83</td>\n",
       "      <td>0.0</td>\n",
       "      <td>0.0</td>\n",
       "      <td>1</td>\n",
       "    </tr>\n",
       "    <tr>\n",
       "      <th>3</th>\n",
       "      <td>1.51618</td>\n",
       "      <td>13.53</td>\n",
       "      <td>3.55</td>\n",
       "      <td>1.54</td>\n",
       "      <td>72.99</td>\n",
       "      <td>0.39</td>\n",
       "      <td>7.78</td>\n",
       "      <td>0.0</td>\n",
       "      <td>0.0</td>\n",
       "      <td>1</td>\n",
       "    </tr>\n",
       "    <tr>\n",
       "      <th>4</th>\n",
       "      <td>1.51766</td>\n",
       "      <td>13.21</td>\n",
       "      <td>3.69</td>\n",
       "      <td>1.29</td>\n",
       "      <td>72.61</td>\n",
       "      <td>0.57</td>\n",
       "      <td>8.22</td>\n",
       "      <td>0.0</td>\n",
       "      <td>0.0</td>\n",
       "      <td>1</td>\n",
       "    </tr>\n",
       "    <tr>\n",
       "      <th>5</th>\n",
       "      <td>1.51742</td>\n",
       "      <td>13.27</td>\n",
       "      <td>3.62</td>\n",
       "      <td>1.24</td>\n",
       "      <td>73.08</td>\n",
       "      <td>0.55</td>\n",
       "      <td>8.07</td>\n",
       "      <td>0.0</td>\n",
       "      <td>0.0</td>\n",
       "      <td>1</td>\n",
       "    </tr>\n",
       "  </tbody>\n",
       "</table>\n",
       "</div>"
      ],
      "text/plain": [
       "         RI     Na    Mg    Al     Si     K    Ca   Ba   Fe  Type\n",
       "id                                                               \n",
       "1   1.52101  13.64  4.49  1.10  71.78  0.06  8.75  0.0  0.0     1\n",
       "2   1.51761  13.89  3.60  1.36  72.73  0.48  7.83  0.0  0.0     1\n",
       "3   1.51618  13.53  3.55  1.54  72.99  0.39  7.78  0.0  0.0     1\n",
       "4   1.51766  13.21  3.69  1.29  72.61  0.57  8.22  0.0  0.0     1\n",
       "5   1.51742  13.27  3.62  1.24  73.08  0.55  8.07  0.0  0.0     1"
      ]
     },
     "execution_count": 4,
     "metadata": {},
     "output_type": "execute_result"
    }
   ],
   "source": [
    "df.head()"
   ]
  },
  {
   "cell_type": "markdown",
   "metadata": {},
   "source": [
    "### Medidas de tendência central"
   ]
  },
  {
   "cell_type": "code",
   "execution_count": 5,
   "metadata": {},
   "outputs": [
    {
     "data": {
      "text/html": [
       "<div>\n",
       "<style scoped>\n",
       "    .dataframe tbody tr th:only-of-type {\n",
       "        vertical-align: middle;\n",
       "    }\n",
       "\n",
       "    .dataframe tbody tr th {\n",
       "        vertical-align: top;\n",
       "    }\n",
       "\n",
       "    .dataframe thead th {\n",
       "        text-align: right;\n",
       "    }\n",
       "</style>\n",
       "<table border=\"1\" class=\"dataframe\">\n",
       "  <thead>\n",
       "    <tr style=\"text-align: right;\">\n",
       "      <th></th>\n",
       "      <th>RI</th>\n",
       "      <th>Na</th>\n",
       "      <th>Mg</th>\n",
       "      <th>Al</th>\n",
       "      <th>Si</th>\n",
       "      <th>K</th>\n",
       "      <th>Ca</th>\n",
       "      <th>Ba</th>\n",
       "      <th>Fe</th>\n",
       "      <th>Type</th>\n",
       "    </tr>\n",
       "  </thead>\n",
       "  <tbody>\n",
       "    <tr>\n",
       "      <th>count</th>\n",
       "      <td>214.000000</td>\n",
       "      <td>214.000000</td>\n",
       "      <td>214.000000</td>\n",
       "      <td>214.000000</td>\n",
       "      <td>214.000000</td>\n",
       "      <td>214.000000</td>\n",
       "      <td>214.000000</td>\n",
       "      <td>214.000000</td>\n",
       "      <td>214.000000</td>\n",
       "      <td>214.000000</td>\n",
       "    </tr>\n",
       "    <tr>\n",
       "      <th>mean</th>\n",
       "      <td>1.518365</td>\n",
       "      <td>13.407850</td>\n",
       "      <td>2.684533</td>\n",
       "      <td>1.444907</td>\n",
       "      <td>72.650935</td>\n",
       "      <td>0.497056</td>\n",
       "      <td>8.956963</td>\n",
       "      <td>0.175047</td>\n",
       "      <td>0.057009</td>\n",
       "      <td>2.780374</td>\n",
       "    </tr>\n",
       "    <tr>\n",
       "      <th>std</th>\n",
       "      <td>0.003037</td>\n",
       "      <td>0.816604</td>\n",
       "      <td>1.442408</td>\n",
       "      <td>0.499270</td>\n",
       "      <td>0.774546</td>\n",
       "      <td>0.652192</td>\n",
       "      <td>1.423153</td>\n",
       "      <td>0.497219</td>\n",
       "      <td>0.097439</td>\n",
       "      <td>2.103739</td>\n",
       "    </tr>\n",
       "    <tr>\n",
       "      <th>min</th>\n",
       "      <td>1.511150</td>\n",
       "      <td>10.730000</td>\n",
       "      <td>0.000000</td>\n",
       "      <td>0.290000</td>\n",
       "      <td>69.810000</td>\n",
       "      <td>0.000000</td>\n",
       "      <td>5.430000</td>\n",
       "      <td>0.000000</td>\n",
       "      <td>0.000000</td>\n",
       "      <td>1.000000</td>\n",
       "    </tr>\n",
       "    <tr>\n",
       "      <th>25%</th>\n",
       "      <td>1.516523</td>\n",
       "      <td>12.907500</td>\n",
       "      <td>2.115000</td>\n",
       "      <td>1.190000</td>\n",
       "      <td>72.280000</td>\n",
       "      <td>0.122500</td>\n",
       "      <td>8.240000</td>\n",
       "      <td>0.000000</td>\n",
       "      <td>0.000000</td>\n",
       "      <td>1.000000</td>\n",
       "    </tr>\n",
       "    <tr>\n",
       "      <th>50%</th>\n",
       "      <td>1.517680</td>\n",
       "      <td>13.300000</td>\n",
       "      <td>3.480000</td>\n",
       "      <td>1.360000</td>\n",
       "      <td>72.790000</td>\n",
       "      <td>0.555000</td>\n",
       "      <td>8.600000</td>\n",
       "      <td>0.000000</td>\n",
       "      <td>0.000000</td>\n",
       "      <td>2.000000</td>\n",
       "    </tr>\n",
       "    <tr>\n",
       "      <th>75%</th>\n",
       "      <td>1.519157</td>\n",
       "      <td>13.825000</td>\n",
       "      <td>3.600000</td>\n",
       "      <td>1.630000</td>\n",
       "      <td>73.087500</td>\n",
       "      <td>0.610000</td>\n",
       "      <td>9.172500</td>\n",
       "      <td>0.000000</td>\n",
       "      <td>0.100000</td>\n",
       "      <td>3.000000</td>\n",
       "    </tr>\n",
       "    <tr>\n",
       "      <th>max</th>\n",
       "      <td>1.533930</td>\n",
       "      <td>17.380000</td>\n",
       "      <td>4.490000</td>\n",
       "      <td>3.500000</td>\n",
       "      <td>75.410000</td>\n",
       "      <td>6.210000</td>\n",
       "      <td>16.190000</td>\n",
       "      <td>3.150000</td>\n",
       "      <td>0.510000</td>\n",
       "      <td>7.000000</td>\n",
       "    </tr>\n",
       "  </tbody>\n",
       "</table>\n",
       "</div>"
      ],
      "text/plain": [
       "               RI          Na          Mg          Al          Si           K  \\\n",
       "count  214.000000  214.000000  214.000000  214.000000  214.000000  214.000000   \n",
       "mean     1.518365   13.407850    2.684533    1.444907   72.650935    0.497056   \n",
       "std      0.003037    0.816604    1.442408    0.499270    0.774546    0.652192   \n",
       "min      1.511150   10.730000    0.000000    0.290000   69.810000    0.000000   \n",
       "25%      1.516523   12.907500    2.115000    1.190000   72.280000    0.122500   \n",
       "50%      1.517680   13.300000    3.480000    1.360000   72.790000    0.555000   \n",
       "75%      1.519157   13.825000    3.600000    1.630000   73.087500    0.610000   \n",
       "max      1.533930   17.380000    4.490000    3.500000   75.410000    6.210000   \n",
       "\n",
       "               Ca          Ba          Fe        Type  \n",
       "count  214.000000  214.000000  214.000000  214.000000  \n",
       "mean     8.956963    0.175047    0.057009    2.780374  \n",
       "std      1.423153    0.497219    0.097439    2.103739  \n",
       "min      5.430000    0.000000    0.000000    1.000000  \n",
       "25%      8.240000    0.000000    0.000000    1.000000  \n",
       "50%      8.600000    0.000000    0.000000    2.000000  \n",
       "75%      9.172500    0.000000    0.100000    3.000000  \n",
       "max     16.190000    3.150000    0.510000    7.000000  "
      ]
     },
     "execution_count": 5,
     "metadata": {},
     "output_type": "execute_result"
    }
   ],
   "source": [
    "df.describe()"
   ]
  },
  {
   "cell_type": "markdown",
   "metadata": {},
   "source": [
    "### Correlação"
   ]
  },
  {
   "cell_type": "markdown",
   "metadata": {},
   "source": [
    "Podemos perceber através do mapa de calor abaixo que existe uma alta correlação entre o **índice de refração** e a quantidade de **calcio** presente, bem como uma correlação negativa entre **índice de refração** e **silício**, e entre **magnésio** e outros elementos como **alumínio**, **cálcio** e **bário**. O mais interessante porém é a alta correlação negativa entre o atributo de classe **Type** e o **magnésio**"
   ]
  },
  {
   "cell_type": "code",
   "execution_count": 6,
   "metadata": {},
   "outputs": [
    {
     "data": {
      "text/plain": [
       "<AxesSubplot:>"
      ]
     },
     "execution_count": 6,
     "metadata": {},
     "output_type": "execute_result"
    },
    {
     "data": {
      "image/png": "[encoded data removed]",
      "text/plain": [
       "<Figure size 576x432 with 2 Axes>"
      ]
     },
     "metadata": {
      "needs_background": "light"
     },
     "output_type": "display_data"
    }
   ],
   "source": [
    "plt.subplots(figsize=(8, 6))\n",
    "sns.heatmap(df.corr() * 100, annot=True, fmt=\".0f\", vmin=-100, vmax=100, cmap='Spectral')"
   ]
  },
  {
   "cell_type": "markdown",
   "metadata": {},
   "source": [
    "# Pre-processamento"
   ]
  },
  {
   "cell_type": "markdown",
   "metadata": {},
   "source": [
    "## Detecção de outliers"
   ]
  },
  {
   "cell_type": "markdown",
   "metadata": {},
   "source": [
    "Pelo box plot abaixo é possível perceber a presença de vários outliers em cada atributo isoladamente"
   ]
  },
  {
   "cell_type": "code",
   "execution_count": 7,
   "metadata": {},
   "outputs": [
    {
     "data": {
      "text/plain": [
       "<AxesSubplot:>"
      ]
     },
     "execution_count": 7,
     "metadata": {},
     "output_type": "execute_result"
    },
    {
     "data": {
      "image/png": "[encoded data removed]",
      "text/plain": [
       "<Figure size 432x288 with 1 Axes>"
      ]
     },
     "metadata": {
      "needs_background": "light"
     },
     "output_type": "display_data"
    }
   ],
   "source": [
    "df.plot.box()"
   ]
  },
  {
   "cell_type": "markdown",
   "metadata": {},
   "source": [
    "Na sequência é realizado o teste de shapiro para verificar se os atributos seguem uma curva normal e decidir qual algoritmo de detecção de outliers multivariado será utilizado\n"
   ]
  },
  {
   "cell_type": "code",
   "execution_count": 8,
   "metadata": {},
   "outputs": [
    {
     "name": "stdout",
     "output_type": "stream",
     "text": [
      "RI is Gaussian: False\n",
      "Na is Gaussian: False\n",
      "Mg is Gaussian: False\n",
      "Al is Gaussian: False\n",
      "Si is Gaussian: False\n",
      "K is Gaussian: False\n",
      "Ca is Gaussian: False\n",
      "Ba is Gaussian: False\n",
      "Fe is Gaussian: False\n"
     ]
    }
   ],
   "source": [
    "significance = .01\n",
    "for col in X.columns:\n",
    "    print(f'{col} is Gaussian: {stats.shapiro(df[col]).pvalue > significance}')"
   ]
  },
  {
   "cell_type": "markdown",
   "metadata": {},
   "source": [
    "Como nenhum atributo se comportou como uma gaussiana, será utilizado o Isolation Forest, que é um teste não paramétrico."
   ]
  },
  {
   "cell_type": "code",
   "execution_count": 9,
   "metadata": {},
   "outputs": [],
   "source": [
    "from sklearn.ensemble import IsolationForest\n",
    "iforest = IsolationForest(random_state=0)"
   ]
  },
  {
   "cell_type": "code",
   "execution_count": 10,
   "metadata": {},
   "outputs": [
    {
     "data": {
      "text/plain": [
       "<AxesSubplot:>"
      ]
     },
     "execution_count": 10,
     "metadata": {},
     "output_type": "execute_result"
    },
    {
     "data": {
      "image/png": "[encoded data removed]",
      "text/plain": [
       "<Figure size 432x288 with 1 Axes>"
      ]
     },
     "metadata": {
      "needs_background": "light"
     },
     "output_type": "display_data"
    }
   ],
   "source": [
    "outliers = df[iforest.fit_predict(X) == -1]\n",
    "outliers['Type'].value_counts().plot.barh()"
   ]
  },
  {
   "cell_type": "code",
   "execution_count": 11,
   "metadata": {},
   "outputs": [
    {
     "data": {
      "text/plain": [
       "<AxesSubplot:>"
      ]
     },
     "execution_count": 11,
     "metadata": {},
     "output_type": "execute_result"
    },
    {
     "data": {
      "image/png": "[encoded data removed]",
      "text/plain": [
       "<Figure size 432x288 with 1 Axes>"
      ]
     },
     "metadata": {
      "needs_background": "light"
     },
     "output_type": "display_data"
    }
   ],
   "source": [
    "df['Type'].value_counts().plot.barh()"
   ]
  },
  {
   "cell_type": "code",
   "execution_count": 12,
   "metadata": {},
   "outputs": [
    {
     "data": {
      "text/plain": [
       "<AxesSubplot:>"
      ]
     },
     "execution_count": 12,
     "metadata": {},
     "output_type": "execute_result"
    },
    {
     "data": {
      "image/png": "[encoded data removed]",
      "text/plain": [
       "<Figure size 432x288 with 1 Axes>"
      ]
     },
     "metadata": {
      "needs_background": "light"
     },
     "output_type": "display_data"
    }
   ],
   "source": [
    "df.isna().sum().plot.bar()"
   ]
  },
  {
   "cell_type": "markdown",
   "metadata": {},
   "source": [
    "Como a quantidade de outliers foi baixa e de duas classes predominantemente (2 e 7), optamos por não retirar nenhum dado; e como também não há instância com dados ausentes não precisamos imputar."
   ]
  },
  {
   "cell_type": "markdown",
   "metadata": {},
   "source": [
    "# SVM"
   ]
  },
  {
   "cell_type": "code",
   "execution_count": 13,
   "metadata": {},
   "outputs": [],
   "source": [
    "from sklearn.svm import SVC\n",
    "from sklearn.model_selection import RepeatedKFold\n",
    "from sklearn.metrics import f1_score, roc_auc_score"
   ]
  },
  {
   "cell_type": "code",
   "execution_count": 14,
   "metadata": {},
   "outputs": [],
   "source": [
    "splits, repeats = 5, 10\n",
    "rkf = RepeatedKFold(n_splits=splits, n_repeats=repeats, random_state=0)"
   ]
  },
  {
   "cell_type": "code",
   "execution_count": 15,
   "metadata": {},
   "outputs": [],
   "source": [
    "kernels = ['linear', 'poly', 'rbf', 'sigmoid']\n",
    "polys = [i+1 for i in range(len(X.columns), len(X.columns) + 30)]"
   ]
  },
  {
   "cell_type": "code",
   "execution_count": 16,
   "metadata": {},
   "outputs": [
    {
     "name": "stdout",
     "output_type": "stream",
     "text": [
      "CPU times: user 34 s, sys: 2.93 ms, total: 34 s\n",
      "Wall time: 34 s\n"
     ]
    }
   ],
   "source": [
    "%%time\n",
    "\n",
    "f1scores = dict()\n",
    "auroc = dict()\n",
    "for kernel in kernels:\n",
    "    for train_index, test_index in rkf.split(X):\n",
    "        X_train, X_test = X.iloc[train_index], X.iloc[test_index]\n",
    "        y_train, y_test = y.iloc[train_index], y.iloc[test_index]\n",
    "\n",
    "        if kernel == 'poly':\n",
    "            for d in polys:\n",
    "                clf = SVC(kernel=kernel, degree=d)\n",
    "                clf.fit(X_train, y_train)\n",
    "                y_pred = clf.predict(X_test)\n",
    "                f1scores[f'{kernel}_{d}'] = f1scores.get(f'{kernel}_{d}', 0) + f1_score(y_test, y_pred, average='micro')\n",
    "                auroc[f'{kernel}_{d}'] = auroc.get(f'{kernel}_{d}', 0) + roc_auc_score(pd.get_dummies(y_test), pd.get_dummies(y_pred), multi_class='ovo')\n",
    "        else:\n",
    "            clf = SVC(kernel=kernel)\n",
    "            clf.fit(X_train, y_train)\n",
    "            y_pred = clf.predict(X_test)\n",
    "            f1scores[kernel] = f1scores.get(kernel, 0) + f1_score(y_test, y_pred, average='micro')\n",
    "            auroc[kernel] = auroc.get(kernel, 0) + roc_auc_score(pd.get_dummies(y_test), pd.get_dummies(y_pred), multi_class='ovo')\n",
    "            \n",
    "for k in f1scores:\n",
    "    f1scores[k] /= splits * repeats\n",
    "    auroc[k] /= splits * repeats\n",
    "    if k == 'poly':\n",
    "        f1scores[k] /= len(polys)\n",
    "        auroc[k] /= len(polys)"
   ]
  },
  {
   "cell_type": "code",
   "execution_count": 17,
   "metadata": {},
   "outputs": [
    {
     "data": {
      "text/plain": [
       "<AxesSubplot:>"
      ]
     },
     "execution_count": 17,
     "metadata": {},
     "output_type": "execute_result"
    },
    {
     "data": {
      "image/png": "[encoded data removed]",
      "text/plain": [
       "<Figure size 576x864 with 1 Axes>"
      ]
     },
     "metadata": {
      "needs_background": "light"
     },
     "output_type": "display_data"
    }
   ],
   "source": [
    "svm_metrics = pd.DataFrame(data=[f1scores, auroc]).T.sort_index(ascending=False)\n",
    "svm_metrics.columns = ['f1_score', 'auroc']\n",
    "svm_metrics.plot.barh(figsize=(8, 12))"
   ]
  },
  {
   "cell_type": "markdown",
   "metadata": {},
   "source": [
    "É possível concluir de acordo com os F-scores acima que os kernels linear e polinomial obtiveram um melhor resultado comparado com os demais. Apesar de o linear ser o kernel mais simples, isso pode se dar pelo fato de a classe ter uma alta correlação negativa com um atributo especificamente, entre outras correlações relevantes com certos atributos, o que torna essa divisão no hiperplano um pouco melhor. É possível notar também a melhoria do desempenho do kernel polinomial a medida que é aumentado o grau até a casa dos 30 "
   ]
  },
  {
   "cell_type": "markdown",
   "metadata": {},
   "source": [
    "# Neural Network\n",
    "\n",
    "Definindo os hiperparametros\n",
    "\n",
    "- o numero maximo de camadas foi definido como 2, devido a pouca quantidade de atributos e dados, não achamos necessário mais que isso.\n",
    "\n",
    "- o numero de neuronios por camada varia de 50 em 50 no intervalo [100, 250]\n",
    "\n",
    "- a taxa de aprendizagem $\\alpha$ assume valores de {10e-4, 10e-3, 10e-2, 10e-1, 1}\n",
    "\n",
    "- e o maximo de épocas foi definido como $10^4$ para que o algoritmo consiga convergir"
   ]
  },
  {
   "cell_type": "code",
   "execution_count": 18,
   "metadata": {},
   "outputs": [
    {
     "data": {
      "text/plain": [
       "{'activation': ['identity', 'logistic', 'tanh', 'relu'],\n",
       " 'hidden_layer_sizes': [(100,),\n",
       "  (100, 100),\n",
       "  (150,),\n",
       "  (150, 150),\n",
       "  (200,),\n",
       "  (200, 200),\n",
       "  (250,),\n",
       "  (250, 250)],\n",
       " 'alpha': [1.0, 0.1, 0.01, 0.001, 0.0001],\n",
       " 'max_iter': [10000],\n",
       " 'random_state': [0]}"
      ]
     },
     "execution_count": 18,
     "metadata": {},
     "output_type": "execute_result"
    }
   ],
   "source": [
    "NUM_CAMADAS = 2\n",
    "NUM_NEURONS = 250\n",
    "STEP_NEURONS = 50\n",
    "hyper_params = {\n",
    "    'activation': ['identity', 'logistic', 'tanh', 'relu'],\n",
    "    'hidden_layer_sizes': [tuple(n for i in range(c+1)) for n in range(100, NUM_NEURONS+1, STEP_NEURONS) for c in range(NUM_CAMADAS)],\n",
    "    'alpha': [1/10**i for i in range(5)],\n",
    "    'max_iter': [10000],\n",
    "    'random_state': [0]\n",
    "}\n",
    "hyper_params"
   ]
  },
  {
   "cell_type": "code",
   "execution_count": 19,
   "metadata": {},
   "outputs": [],
   "source": [
    "from sklearn.neural_network import MLPClassifier\n",
    "from sklearn.model_selection import GridSearchCV"
   ]
  },
  {
   "cell_type": "code",
   "execution_count": 20,
   "metadata": {},
   "outputs": [],
   "source": [
    "mlp = MLPClassifier()\n",
    "grid_search = GridSearchCV(mlp, hyper_params, cv=5, n_jobs=-1,\n",
    "                           scoring=['f1_micro', 'roc_auc_ovo'], refit=False)"
   ]
  },
  {
   "cell_type": "markdown",
   "metadata": {},
   "source": [
    "O treino dos algoritmos será realizado usando o grid search do sklearn"
   ]
  },
  {
   "cell_type": "code",
   "execution_count": 21,
   "metadata": {},
   "outputs": [
    {
     "name": "stdout",
     "output_type": "stream",
     "text": [
      "CPU times: user 2.42 s, sys: 195 ms, total: 2.61 s\n",
      "Wall time: 3min 10s\n"
     ]
    },
    {
     "data": {
      "text/plain": [
       "GridSearchCV(cv=5, estimator=MLPClassifier(), n_jobs=-1,\n",
       "             param_grid={'activation': ['identity', 'logistic', 'tanh', 'relu'],\n",
       "                         'alpha': [1.0, 0.1, 0.01, 0.001, 0.0001],\n",
       "                         'hidden_layer_sizes': [(100,), (100, 100), (150,),\n",
       "                                                (150, 150), (200,), (200, 200),\n",
       "                                                (250,), (250, 250)],\n",
       "                         'max_iter': [10000], 'random_state': [0]},\n",
       "             refit=False, scoring=['f1_micro', 'roc_auc_ovo'])"
      ]
     },
     "execution_count": 21,
     "metadata": {},
     "output_type": "execute_result"
    }
   ],
   "source": [
    "%%time\n",
    "\n",
    "grid_search.fit(X, y)"
   ]
  },
  {
   "cell_type": "code",
   "execution_count": 22,
   "metadata": {},
   "outputs": [
    {
     "data": {
      "text/html": [
       "<div>\n",
       "<style scoped>\n",
       "    .dataframe tbody tr th:only-of-type {\n",
       "        vertical-align: middle;\n",
       "    }\n",
       "\n",
       "    .dataframe tbody tr th {\n",
       "        vertical-align: top;\n",
       "    }\n",
       "\n",
       "    .dataframe thead th {\n",
       "        text-align: right;\n",
       "    }\n",
       "</style>\n",
       "<table border=\"1\" class=\"dataframe\">\n",
       "  <thead>\n",
       "    <tr style=\"text-align: right;\">\n",
       "      <th></th>\n",
       "      <th>mean_fit_time</th>\n",
       "      <th>std_fit_time</th>\n",
       "      <th>mean_score_time</th>\n",
       "      <th>std_score_time</th>\n",
       "      <th>param_activation</th>\n",
       "      <th>param_alpha</th>\n",
       "      <th>param_hidden_layer_sizes</th>\n",
       "      <th>param_max_iter</th>\n",
       "      <th>param_random_state</th>\n",
       "      <th>params</th>\n",
       "      <th>...</th>\n",
       "      <th>std_test_f1_micro</th>\n",
       "      <th>rank_test_f1_micro</th>\n",
       "      <th>split0_test_roc_auc_ovo</th>\n",
       "      <th>split1_test_roc_auc_ovo</th>\n",
       "      <th>split2_test_roc_auc_ovo</th>\n",
       "      <th>split3_test_roc_auc_ovo</th>\n",
       "      <th>split4_test_roc_auc_ovo</th>\n",
       "      <th>mean_test_roc_auc_ovo</th>\n",
       "      <th>std_test_roc_auc_ovo</th>\n",
       "      <th>rank_test_roc_auc_ovo</th>\n",
       "    </tr>\n",
       "  </thead>\n",
       "  <tbody>\n",
       "    <tr>\n",
       "      <th>0</th>\n",
       "      <td>0.038884</td>\n",
       "      <td>0.007711</td>\n",
       "      <td>0.038626</td>\n",
       "      <td>0.001758</td>\n",
       "      <td>identity</td>\n",
       "      <td>1</td>\n",
       "      <td>(100,)</td>\n",
       "      <td>10000</td>\n",
       "      <td>0</td>\n",
       "      <td>{'activation': 'identity', 'alpha': 1.0, 'hidd...</td>\n",
       "      <td>...</td>\n",
       "      <td>0.009062</td>\n",
       "      <td>122</td>\n",
       "      <td>0.605093</td>\n",
       "      <td>0.658161</td>\n",
       "      <td>0.577963</td>\n",
       "      <td>0.663069</td>\n",
       "      <td>0.591048</td>\n",
       "      <td>0.619067</td>\n",
       "      <td>0.035027</td>\n",
       "      <td>150</td>\n",
       "    </tr>\n",
       "    <tr>\n",
       "      <th>1</th>\n",
       "      <td>0.703773</td>\n",
       "      <td>0.500854</td>\n",
       "      <td>0.041836</td>\n",
       "      <td>0.002274</td>\n",
       "      <td>identity</td>\n",
       "      <td>1</td>\n",
       "      <td>(100, 100)</td>\n",
       "      <td>10000</td>\n",
       "      <td>0</td>\n",
       "      <td>{'activation': 'identity', 'alpha': 1.0, 'hidd...</td>\n",
       "      <td>...</td>\n",
       "      <td>0.160552</td>\n",
       "      <td>95</td>\n",
       "      <td>0.575810</td>\n",
       "      <td>0.853532</td>\n",
       "      <td>0.684921</td>\n",
       "      <td>0.925820</td>\n",
       "      <td>0.913333</td>\n",
       "      <td>0.790683</td>\n",
       "      <td>0.137558</td>\n",
       "      <td>95</td>\n",
       "    </tr>\n",
       "    <tr>\n",
       "      <th>2</th>\n",
       "      <td>1.443345</td>\n",
       "      <td>0.073903</td>\n",
       "      <td>0.047039</td>\n",
       "      <td>0.002705</td>\n",
       "      <td>identity</td>\n",
       "      <td>1</td>\n",
       "      <td>(150,)</td>\n",
       "      <td>10000</td>\n",
       "      <td>0</td>\n",
       "      <td>{'activation': 'identity', 'alpha': 1.0, 'hidd...</td>\n",
       "      <td>...</td>\n",
       "      <td>0.069785</td>\n",
       "      <td>43</td>\n",
       "      <td>0.814649</td>\n",
       "      <td>0.870873</td>\n",
       "      <td>0.801825</td>\n",
       "      <td>0.922434</td>\n",
       "      <td>0.908730</td>\n",
       "      <td>0.863702</td>\n",
       "      <td>0.048504</td>\n",
       "      <td>73</td>\n",
       "    </tr>\n",
       "    <tr>\n",
       "      <th>3</th>\n",
       "      <td>0.075247</td>\n",
       "      <td>0.016195</td>\n",
       "      <td>0.049967</td>\n",
       "      <td>0.009522</td>\n",
       "      <td>identity</td>\n",
       "      <td>1</td>\n",
       "      <td>(150, 150)</td>\n",
       "      <td>10000</td>\n",
       "      <td>0</td>\n",
       "      <td>{'activation': 'identity', 'alpha': 1.0, 'hidd...</td>\n",
       "      <td>...</td>\n",
       "      <td>0.052609</td>\n",
       "      <td>150</td>\n",
       "      <td>0.539633</td>\n",
       "      <td>0.594206</td>\n",
       "      <td>0.576574</td>\n",
       "      <td>0.538995</td>\n",
       "      <td>0.458243</td>\n",
       "      <td>0.541530</td>\n",
       "      <td>0.046797</td>\n",
       "      <td>157</td>\n",
       "    </tr>\n",
       "    <tr>\n",
       "      <th>4</th>\n",
       "      <td>0.067541</td>\n",
       "      <td>0.008480</td>\n",
       "      <td>0.045701</td>\n",
       "      <td>0.008603</td>\n",
       "      <td>identity</td>\n",
       "      <td>1</td>\n",
       "      <td>(200,)</td>\n",
       "      <td>10000</td>\n",
       "      <td>0</td>\n",
       "      <td>{'activation': 'identity', 'alpha': 1.0, 'hidd...</td>\n",
       "      <td>...</td>\n",
       "      <td>0.048514</td>\n",
       "      <td>156</td>\n",
       "      <td>0.559474</td>\n",
       "      <td>0.619709</td>\n",
       "      <td>0.627222</td>\n",
       "      <td>0.584550</td>\n",
       "      <td>0.573757</td>\n",
       "      <td>0.592942</td>\n",
       "      <td>0.026269</td>\n",
       "      <td>155</td>\n",
       "    </tr>\n",
       "  </tbody>\n",
       "</table>\n",
       "<p>5 rows × 26 columns</p>\n",
       "</div>"
      ],
      "text/plain": [
       "   mean_fit_time  std_fit_time  mean_score_time  std_score_time  \\\n",
       "0       0.038884      0.007711         0.038626        0.001758   \n",
       "1       0.703773      0.500854         0.041836        0.002274   \n",
       "2       1.443345      0.073903         0.047039        0.002705   \n",
       "3       0.075247      0.016195         0.049967        0.009522   \n",
       "4       0.067541      0.008480         0.045701        0.008603   \n",
       "\n",
       "  param_activation param_alpha param_hidden_layer_sizes param_max_iter  \\\n",
       "0         identity           1                   (100,)          10000   \n",
       "1         identity           1               (100, 100)          10000   \n",
       "2         identity           1                   (150,)          10000   \n",
       "3         identity           1               (150, 150)          10000   \n",
       "4         identity           1                   (200,)          10000   \n",
       "\n",
       "  param_random_state                                             params  ...  \\\n",
       "0                  0  {'activation': 'identity', 'alpha': 1.0, 'hidd...  ...   \n",
       "1                  0  {'activation': 'identity', 'alpha': 1.0, 'hidd...  ...   \n",
       "2                  0  {'activation': 'identity', 'alpha': 1.0, 'hidd...  ...   \n",
       "3                  0  {'activation': 'identity', 'alpha': 1.0, 'hidd...  ...   \n",
       "4                  0  {'activation': 'identity', 'alpha': 1.0, 'hidd...  ...   \n",
       "\n",
       "   std_test_f1_micro  rank_test_f1_micro  split0_test_roc_auc_ovo  \\\n",
       "0           0.009062                 122                 0.605093   \n",
       "1           0.160552                  95                 0.575810   \n",
       "2           0.069785                  43                 0.814649   \n",
       "3           0.052609                 150                 0.539633   \n",
       "4           0.048514                 156                 0.559474   \n",
       "\n",
       "   split1_test_roc_auc_ovo  split2_test_roc_auc_ovo  split3_test_roc_auc_ovo  \\\n",
       "0                 0.658161                 0.577963                 0.663069   \n",
       "1                 0.853532                 0.684921                 0.925820   \n",
       "2                 0.870873                 0.801825                 0.922434   \n",
       "3                 0.594206                 0.576574                 0.538995   \n",
       "4                 0.619709                 0.627222                 0.584550   \n",
       "\n",
       "   split4_test_roc_auc_ovo  mean_test_roc_auc_ovo  std_test_roc_auc_ovo  \\\n",
       "0                 0.591048               0.619067              0.035027   \n",
       "1                 0.913333               0.790683              0.137558   \n",
       "2                 0.908730               0.863702              0.048504   \n",
       "3                 0.458243               0.541530              0.046797   \n",
       "4                 0.573757               0.592942              0.026269   \n",
       "\n",
       "   rank_test_roc_auc_ovo  \n",
       "0                    150  \n",
       "1                     95  \n",
       "2                     73  \n",
       "3                    157  \n",
       "4                    155  \n",
       "\n",
       "[5 rows x 26 columns]"
      ]
     },
     "execution_count": 22,
     "metadata": {},
     "output_type": "execute_result"
    }
   ],
   "source": [
    "nn_results = pd.DataFrame(grid_search.cv_results_)\n",
    "metrics_cols = [col for col in nn_results.columns if col.startswith('mean_test')]\n",
    "nn_results.head()"
   ]
  },
  {
   "cell_type": "code",
   "execution_count": 23,
   "metadata": {},
   "outputs": [
    {
     "data": {
      "text/plain": [
       "<AxesSubplot:>"
      ]
     },
     "execution_count": 23,
     "metadata": {},
     "output_type": "execute_result"
    },
    {
     "data": {
      "image/png": "[encoded data removed]",
      "text/plain": [
       "<Figure size 432x720 with 1 Axes>"
      ]
     },
     "metadata": {
      "needs_background": "light"
     },
     "output_type": "display_data"
    }
   ],
   "source": [
    "best_classifiers = nn_results.nlargest(10, columns=metrics_cols)\n",
    "best_classifiers[metrics_cols].plot.barh(figsize=(6, 10))"
   ]
  },
  {
   "cell_type": "code",
   "execution_count": 24,
   "metadata": {},
   "outputs": [],
   "source": [
    "nn_metrics = best_classifiers.copy()[metrics_cols]\n",
    "nn_metrics.columns = ['f1_score', 'auroc']"
   ]
  },
  {
   "cell_type": "markdown",
   "metadata": {},
   "source": [
    "Comparação com o SVM\n",
    "\n",
    "Melhores 30 F-score entre os 2 algoritmos"
   ]
  },
  {
   "cell_type": "code",
   "execution_count": 30,
   "metadata": {},
   "outputs": [
    {
     "data": {
      "text/plain": [
       "<AxesSubplot:>"
      ]
     },
     "execution_count": 30,
     "metadata": {},
     "output_type": "execute_result"
    },
    {
     "data": {
      "image/png": "[encoded data removed]",
      "text/plain": [
       "<Figure size 432x720 with 1 Axes>"
      ]
     },
     "metadata": {
      "needs_background": "light"
     },
     "output_type": "display_data"
    }
   ],
   "source": [
    "svm_metrics.append(nn_metrics).nlargest(30, columns=['f1_score']).plot.barh(figsize=(6, 10))"
   ]
  },
  {
   "cell_type": "markdown",
   "metadata": {},
   "source": [
    "Podemos perceber que as Redes Neurais obtiveram uma área sob a curva ROC consideravelmente maior que os outros SVM, mas um F-score menor. Isso pode ser causado por um **alto número de falsos positivos** nas redes neurais.\n",
    "\n",
    "Para esse dataset o SVM resolve melhor o problema de classificação\n",
    "\n",
    "Abaixo estão os hiper-parametros que obtiveram melhor F-score nas redes neurais:\n",
    "- Função de ativação: tangente hiperbolica\n",
    "- $\\alpha$ = {10e-3, 10e-4}\n",
    "- 1 camada de 150 neurons"
   ]
  },
  {
   "cell_type": "code",
   "execution_count": 31,
   "metadata": {},
   "outputs": [
    {
     "data": {
      "text/plain": [
       "[{'activation': 'tanh',\n",
       "  'alpha': 0.001,\n",
       "  'hidden_layer_sizes': (150,),\n",
       "  'max_iter': 10000,\n",
       "  'random_state': 0},\n",
       " {'activation': 'tanh',\n",
       "  'alpha': 0.0001,\n",
       "  'hidden_layer_sizes': (150,),\n",
       "  'max_iter': 10000,\n",
       "  'random_state': 0}]"
      ]
     },
     "execution_count": 31,
     "metadata": {},
     "output_type": "execute_result"
    }
   ],
   "source": [
    "list(nn_results[nn_results['rank_test_f1_micro'] == 1]['params'])"
   ]
  }
 ],
 "metadata": {
  "kernelspec": {
   "display_name": "Python 3",
   "language": "python",
   "name": "python3"
  },
  "language_info": {
   "codemirror_mode": {
    "name": "ipython",
    "version": 3
   },
   "file_extension": ".py",
   "mimetype": "text/x-python",
   "name": "python",
   "nbconvert_exporter": "python",
   "pygments_lexer": "ipython3",
   "version": "3.8.0"
  }
 },
 "nbformat": 4,
 "nbformat_minor": 4
}
